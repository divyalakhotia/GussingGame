{
 "cells": [
  {
   "cell_type": "code",
   "execution_count": 17,
   "metadata": {},
   "outputs": [],
   "source": [
    "from random import randint\n",
    "x = randint(1,100)"
   ]
  },
  {
   "cell_type": "code",
   "execution_count": 18,
   "metadata": {},
   "outputs": [
    {
     "data": {
      "text/plain": [
       "77"
      ]
     },
     "execution_count": 18,
     "metadata": {},
     "output_type": "execute_result"
    }
   ],
   "source": [
    "x"
   ]
  },
  {
   "cell_type": "code",
   "execution_count": 19,
   "metadata": {},
   "outputs": [
    {
     "name": "stdout",
     "output_type": "stream",
     "text": [
      "Welcome to the Gessing Game\n",
      "I'm thinking of a number between 1 and 100\n",
      "If your guess is more than 10 away from my number, I'll tell you you're COLD\n",
      "If your guess is within 10 of my number, I'll tell you you're WARM\n",
      "If your guess is farther than your most recent guess, I'll say you're getting COLDER\n",
      "If your guess is closer than your most recent guess, I'll say you're getting WARMER\n",
      "LET'S PLAY!\n"
     ]
    }
   ],
   "source": [
    "print('Welcome to the Gessing Game')\n",
    "print(\"I'm thinking of a number between 1 and 100\")\n",
    "print(\"If your guess is more than 10 away from my number, I'll tell you you're COLD\")\n",
    "print(\"If your guess is within 10 of my number, I'll tell you you're WARM\")\n",
    "print(\"If your guess is farther than your most recent guess, I'll say you're getting COLDER\")\n",
    "print(\"If your guess is closer than your most recent guess, I'll say you're getting WARMER\")\n",
    "print(\"LET'S PLAY!\")"
   ]
  },
  {
   "cell_type": "code",
   "execution_count": 20,
   "metadata": {},
   "outputs": [
    {
     "name": "stdout",
     "output_type": "stream",
     "text": [
      "guess a number 101\n",
      "OUT OF BOUNDS! Try again!\n",
      "guess a number 80\n",
      "WARM\n",
      "guess a number 77\n",
      "Yayy correct! You took 3 guesses\n"
     ]
    }
   ],
   "source": [
    "list1=[0] \n",
    "g=0 \n",
    "c=0\n",
    "while g!=x:\n",
    "    c+=1\n",
    "    g = int(input('guess a number '))\n",
    "    list1.append(g)\n",
    "    if x==g:\n",
    "        print(f'Yayy correct! You took {c} guesses')\n",
    "    elif g<1 or g>100:\n",
    "        print('OUT OF BOUNDS! Try again!')\n",
    "    elif list1[c-1]<x+10 and list1[c-1]>x-10 and c>1:\n",
    "        if abs(x-list1[c-1])>abs(x-g):\n",
    "            print('WARMER')\n",
    "        elif abs(x-list1[c-1])<abs(x-g):\n",
    "            print('COLDER')\n",
    "    elif (g<x+10 and g>x-10):\n",
    "            print('WARM')     \n",
    "    else:\n",
    "        print('COLD')\n"
   ]
  },
  {
   "cell_type": "code",
   "execution_count": null,
   "metadata": {},
   "outputs": [],
   "source": []
  }
 ],
 "metadata": {
  "kernelspec": {
   "display_name": "Python 3",
   "language": "python",
   "name": "python3"
  },
  "language_info": {
   "codemirror_mode": {
    "name": "ipython",
    "version": 3
   },
   "file_extension": ".py",
   "mimetype": "text/x-python",
   "name": "python",
   "nbconvert_exporter": "python",
   "pygments_lexer": "ipython3",
   "version": "3.7.3"
  }
 },
 "nbformat": 4,
 "nbformat_minor": 2
}
